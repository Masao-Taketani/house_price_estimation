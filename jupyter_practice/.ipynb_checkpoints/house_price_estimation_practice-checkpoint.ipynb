{
 "cells": [
  {
   "cell_type": "code",
   "execution_count": 3,
   "metadata": {},
   "outputs": [],
   "source": [
    "from sklearn.preprocessing import LabelBinarizer\n",
    "from sklearn.preprocessing import MinMaxScaler\n",
    "import pandas as pd\n",
    "import numpy as np\n",
    "import glob\n",
    "import cv2\n",
    "import os"
   ]
  },
  {
   "cell_type": "code",
   "execution_count": 14,
   "metadata": {},
   "outputs": [],
   "source": [
    "def load_house_attributes(inputPath):\n",
    "    cols = [\"bedrooms\", \"bathrooms\", \"area\", \"zipcode\", \"price\"]\n",
    "    df = pd.read_csv(inputPath, sep=\" \", header=None, names=cols)\n",
    "    #key値の方をリストにする\n",
    "    zipcodes = df[\"zipcode\"].value_counts().keys().tolist()\n",
    "    #カウント数の方をリストにする\n",
    "    counts = df[\"zipcode\"].value_counts().tolist()\n",
    "    \n",
    "    for (zipcode, count) in zip(zipcodes, counts):\n",
    "        if count < 25:\n",
    "            #zipcodeが一致するインデックスをidxsに格納する\n",
    "            idxs = df[df[\"zipcode\"] == zipcode].index\n",
    "            #idxsの値を持つインデックスを削除する\n",
    "            #inplaceの説明\n",
    "            #デフォルトでは元のDataFrameは変更されず、新しいDataFrameが返される。\n",
    "            #引数inplaceをTrueにすると、元のDataFrameが変更される。\n",
    "            #この場合、新しいDataFrameは返されず、返り値はNone。\n",
    "            df.drop(idxs, inplace=True)\n",
    "            \n",
    "    return df\n",
    "\n",
    "def preprocess_house_attributes(df, train, test):\n",
    "    continuous = [\"bedrooms\", \"bathrooms\", \"area\"]\n",
    "    \n",
    "    #最小が0、最大が1になるようにする\n",
    "    cs = MinMaxScaler()\n",
    "    trainContinuous = cs.fit_transform(train[continuous])\n",
    "    testContinuous = cs.transform(test[continuous])\n",
    "    \n",
    "    zipBinarizer = LabelBinarizer().fit(df[\"zipcode\"])\n",
    "    #zipcodeがcount数以上の数だけカテゴリを作り、それぞれのuniqueな\n",
    "    #zipcodeに対してone-hotエンコーディングを行う\n",
    "    trainCategorical = zipBinarizer.transform(train[\"zipcode\"])\n",
    "    #(指定のカウント数によるデータの制限はtrain_test_splitに行ったため、\n",
    "    #テスト用のカテゴリも学習用に一致する)\n",
    "    testCategorical = zipBinarizer.transform(test[\"zipcode\"])\n",
    "    \n",
    "    trainX = np.hstack([trainCategorical, trainContinuous])\n",
    "    testX = np.hstack([testCategorical, testContinuous])\n",
    "    \n",
    "    return (trainX, testX)\n",
    "\n",
    "def load_house_images(df, inputPath):\n",
    "    images = []\n",
    "    \n",
    "    #制限をかけた362のデータに対してループを行う\n",
    "    for i in df.index.values:\n",
    "        basePath = os.path.sep.join([inputPath, \"{}_*\".format(i + 1)])\n",
    "        housePaths = sorted(list(glob.glob(basePath)))\n",
    "        \n",
    "        inputImages = []\n",
    "        outputImage = np.zeros((64, 64, 3), dtype=\"uint8\")\n",
    "        \n",
    "        for housePath in housePaths:\n",
    "            image = cv2.imread(housePath)\n",
    "            image = cv2.resize(image, (32, 32))\n",
    "            inputImages.append(image)\n",
    "            \n",
    "        outputImage[0:32, 0:32] = inputImages[0]\n",
    "        outputImage[0:32, 32:64] = inputImages[1]\n",
    "        outputImage[32:64, 32:64] = inputImages[2]\n",
    "        outputImage[32:64, 0:32] = inputImages[3]\n",
    "        \n",
    "        images.append(outputImage)\n",
    "    \n",
    "    return np.array(images)"
   ]
  },
  {
   "cell_type": "code",
   "execution_count": 21,
   "metadata": {},
   "outputs": [
    {
     "name": "stderr",
     "output_type": "stream",
     "text": [
      "/usr/local/lib/python3.5/dist-packages/sklearn/preprocessing/data.py:323: DataConversionWarning: Data with input dtype int64, float64 were all converted to float64 by MinMaxScaler.\n",
      "  return self.partial_fit(X, y)\n"
     ]
    },
    {
     "data": {
      "text/plain": [
       "<matplotlib.image.AxesImage at 0x7fff34f3a048>"
      ]
     },
     "execution_count": 21,
     "metadata": {},
     "output_type": "execute_result"
    },
    {
     "data": {
      "image/png": "[encoded data removed]",
      "text/plain": [
       "<Figure size 432x288 with 1 Axes>"
      ]
     },
     "metadata": {
      "needs_background": "light"
     },
     "output_type": "display_data"
    }
   ],
   "source": [
    "from sklearn.model_selection import train_test_split\n",
    "import matplotlib.pyplot as plt\n",
    "%matplotlib inline\n",
    "\n",
    "df = load_house_attributes(\"../Houses-dataset/Houses Dataset/HousesInfo.txt\")\n",
    "(train, test) = train_test_split(df, test_size=0.25, random_state=42)\n",
    "preprocess_house_attributes(df, train, test)\n",
    "outputIMG = load_house_images(df, \"../Houses-dataset/Houses Dataset\")\n",
    "plt.imshow(outputIMG[7])"
   ]
  },
  {
   "cell_type": "code",
   "execution_count": 26,
   "metadata": {},
   "outputs": [
    {
     "data": {
      "text/plain": [
       "array([ 30,  32,  39,  80,  81,  82,  83,  84,  85,  86,  87,  88,  89,\n",
       "        90,  91,  92,  93,  94,  95,  96,  97,  98,  99, 100, 101, 102,\n",
       "       103, 104, 105, 106, 107, 108, 109, 110, 111, 112, 113, 125, 126,\n",
       "       127, 128, 129, 130, 131, 132, 133, 134, 135, 136, 137, 138, 139,\n",
       "       140, 141, 142, 143, 144, 145, 146, 147, 148, 149, 150, 173, 174,\n",
       "       175, 176, 177, 178, 179, 180, 181, 182, 183, 184, 185, 186, 187,\n",
       "       188, 189, 190, 191, 192, 193, 194, 195, 196, 197, 198, 199, 200,\n",
       "       201, 202, 203, 204, 205, 206, 207, 208, 209, 210, 211, 212, 213,\n",
       "       214, 227, 228, 229, 230, 231, 232, 233, 234, 236, 237, 238, 239,\n",
       "       240, 241, 242, 243, 244, 245, 246, 247, 248, 249, 250, 251, 258,\n",
       "       265, 267, 269, 272, 274, 275, 277, 278, 279, 280, 281, 283, 284,\n",
       "       285, 286, 287, 288, 289, 290, 291, 292, 293, 294, 295, 296, 297,\n",
       "       298, 299, 300, 301, 302, 303, 304, 305, 306, 307, 308, 309, 310,\n",
       "       311, 312, 313, 314, 315, 316, 317, 318, 319, 320, 321, 322, 323,\n",
       "       324, 325, 326, 327, 328, 329, 330, 331, 332, 333, 334, 335, 336,\n",
       "       337, 338, 339, 340, 341, 342, 343, 344, 345, 346, 347, 348, 349,\n",
       "       350, 351, 352, 353, 354, 355, 356, 357, 358, 359, 360, 361, 362,\n",
       "       363, 364, 365, 366, 367, 368, 369, 370, 371, 372, 373, 374, 375,\n",
       "       376, 377, 378, 379, 380, 381, 382, 383, 384, 385, 386, 387, 388,\n",
       "       389, 390, 391, 392, 393, 394, 395, 396, 397, 398, 399, 400, 401,\n",
       "       402, 403, 404, 405, 406, 407, 408, 409, 410, 411, 412, 413, 414,\n",
       "       415, 416, 417, 418, 419, 420, 421, 422, 423, 424, 425, 426, 427,\n",
       "       428, 429, 430, 431, 432, 433, 434, 435, 436, 437, 438, 439, 440,\n",
       "       441, 442, 443, 444, 445, 446, 447, 448, 449, 450, 451, 452, 453,\n",
       "       454, 455, 456, 457, 458, 459, 460, 461, 462, 463, 464, 465, 466,\n",
       "       467, 468, 469, 470, 471, 472, 473, 474, 475, 476, 477, 478, 479,\n",
       "       480, 481, 482, 483, 484, 485, 486, 487, 488, 489, 490, 491, 492,\n",
       "       493, 494, 495, 496, 497, 498, 499, 500, 501, 502, 503])"
      ]
     },
     "execution_count": 26,
     "metadata": {},
     "output_type": "execute_result"
    }
   ],
   "source": [
    "df.index.values"
   ]
  },
  {
   "cell_type": "code",
   "execution_count": null,
   "metadata": {},
   "outputs": [],
   "source": []
  }
 ],
 "metadata": {
  "kernelspec": {
   "display_name": "Python 3",
   "language": "python",
   "name": "python3"
  },
  "language_info": {
   "codemirror_mode": {
    "name": "ipython",
    "version": 3
   },
   "file_extension": ".py",
   "mimetype": "text/x-python",
   "name": "python",
   "nbconvert_exporter": "python",
   "pygments_lexer": "ipython3",
   "version": "3.5.2"
  }
 },
 "nbformat": 4,
 "nbformat_minor": 2
}
