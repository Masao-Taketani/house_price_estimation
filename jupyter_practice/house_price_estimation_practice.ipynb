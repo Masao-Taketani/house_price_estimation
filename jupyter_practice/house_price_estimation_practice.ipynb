{
 "cells": [
  {
   "cell_type": "code",
   "execution_count": 2,
   "metadata": {},
   "outputs": [],
   "source": [
    "from sklearn.preprocessing import LabelBinarizer\n",
    "from sklearn.preprocessing import MinMaxScaler\n",
    "import pandas as pd\n",
    "import numpy as np\n",
    "import glob\n",
    "import cv2\n",
    "import os"
   ]
  },
  {
   "cell_type": "code",
   "execution_count": 60,
   "metadata": {},
   "outputs": [],
   "source": [
    "def load_house_attributes(inputPath):\n",
    "    cols = [\"bedrooms\", \"bathrooms\", \"area\", \"zipcode\", \"price\"]\n",
    "    df = pd.read_csv(inputPath, sep=\" \", header=None, names=cols)\n",
    "    #key値の方をリストにする\n",
    "    zipcodes = df[\"zipcode\"].value_counts().keys().tolist()\n",
    "    #カウント数の方をリストにする\n",
    "    counts = df[\"zipcode\"].value_counts().tolist()\n",
    "    print(counts)\n",
    "    \n",
    "    for (zipcode, count) in zip(zipcodes, counts):\n",
    "        if count < 25:\n",
    "            #zipcodeが一致するインデックスをidxsに格納する\n",
    "            idxs = df[df[\"zipcode\"] == zipcode].index\n",
    "            #idxsの値を持つインデックスを削除する\n",
    "            #inplaceの説明\n",
    "            #デフォルトでは元のDataFrameは変更されず、新しいDataFrameが返される。\n",
    "            #引数inplaceをTrueにすると、元のDataFrameが変更される。\n",
    "            #この場合、新しいDataFrameは返されず、返り値はNone。\n",
    "            df.drop(idxs, inplace=True)\n",
    "            \n",
    "    return df\n",
    "\n",
    "def preprocess_house_attributes(df, train, test):\n",
    "    continuous = [\"bedrooms\", \"bathrooms\", \"area\"]\n",
    "    \n",
    "    #最小が0、最大が1になるようにする\n",
    "    cs = MinMaxScaler()\n",
    "    trainContinuous = cs.fit_transform(train[continuous])\n",
    "    print(trainContinuous.shape)\n",
    "    testContinuous = cs.transform(test[continuous])\n",
    "    print(testContinuous.shape)\n",
    "    \n",
    "    zipBinarizer = LabelBinarizer().fit(df[\"zipcode\"])\n",
    "    #zipcodeがcount数以上の数だけカテゴリを作り、それぞれのuniqueな\n",
    "    #zipcodeに対してone-hotエンコーディングを行う\n",
    "    trainCategorical = zipBinarizer.transform(train[\"zipcode\"])\n",
    "    print(trainCategorical.shape)\n",
    "    #(指定のカウント数によるデータの制限はtrain_test_splitに行ったため、\n",
    "    #テスト用のカテゴリも学習用に一致する)\n",
    "    testCategorical = zipBinarizer.transform(test[\"zipcode\"])\n",
    "    print(testCategorical.shape)\n",
    "    \n",
    "    trainX = np.hstack([trainCategorical, trainContinuous])\n",
    "    testX = np.hstack([testCategorical, testContinuous])\n",
    "    \n",
    "    return (trainX, TestX)\n",
    "\n",
    "def load_house_image(df, inputPath):\n",
    "    images = []\n",
    "    \n",
    "    for i in df.index.values:\n",
    "        basePath = os.path.sep.join([inputPath, \"{}_\".format(i + 1)])"
   ]
  },
  {
   "cell_type": "code",
   "execution_count": 61,
   "metadata": {},
   "outputs": [
    {
     "name": "stdout",
     "output_type": "stream",
     "text": [
      "[100, 60, 54, 49, 41, 32, 26, 22, 12, 12, 11, 11, 11, 11, 10, 9, 9, 7, 4, 4, 3, 3, 3, 2, 2, 2, 2, 2, 1, 1, 1, 1, 1, 1, 1, 1, 1, 1, 1, 1, 1, 1, 1, 1, 1, 1, 1, 1, 1]\n",
      "(271, 3)\n",
      "(91, 3)\n",
      "(271, 7)\n",
      "(91, 7)\n"
     ]
    },
    {
     "name": "stderr",
     "output_type": "stream",
     "text": [
      "/usr/local/lib/python3.5/dist-packages/sklearn/preprocessing/data.py:323: DataConversionWarning: Data with input dtype int64, float64 were all converted to float64 by MinMaxScaler.\n",
      "  return self.partial_fit(X, y)\n"
     ]
    }
   ],
   "source": [
    "from sklearn.model_selection import train_test_split\n",
    "\n",
    "df = load_house_attributes(\"../Houses-dataset/Houses Dataset/HousesInfo.txt\")\n",
    "(train, test) = train_test_split(df, test_size=0.25, random_state=42)\n",
    "preprocess_house_attributes(df, train, test)\n"
   ]
  },
  {
   "cell_type": "code",
   "execution_count": null,
   "metadata": {},
   "outputs": [],
   "source": []
  }
 ],
 "metadata": {
  "kernelspec": {
   "display_name": "Python 3",
   "language": "python",
   "name": "python3"
  },
  "language_info": {
   "codemirror_mode": {
    "name": "ipython",
    "version": 3
   },
   "file_extension": ".py",
   "mimetype": "text/x-python",
   "name": "python",
   "nbconvert_exporter": "python",
   "pygments_lexer": "ipython3",
   "version": "3.5.2"
  }
 },
 "nbformat": 4,
 "nbformat_minor": 2
}
